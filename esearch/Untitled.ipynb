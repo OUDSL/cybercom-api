{
 "cells": [
  {
   "cell_type": "code",
   "execution_count": 4,
   "metadata": {
    "collapsed": true
   },
   "outputs": [],
   "source": [
    "from elasticsearch import Elasticsearch"
   ]
  },
  {
   "cell_type": "code",
   "execution_count": 42,
   "metadata": {
    "collapsed": false
   },
   "outputs": [],
   "source": [
    "es= Elasticsearch([{'host':'localhost'}])"
   ]
  },
  {
   "cell_type": "code",
   "execution_count": 31,
   "metadata": {
    "collapsed": false
   },
   "outputs": [],
   "source": [
    "import elastic_search"
   ]
  },
  {
   "cell_type": "code",
   "execution_count": 30,
   "metadata": {
    "collapsed": false
   },
   "outputs": [
    {
     "data": {
      "text/plain": [
       "60258"
      ]
     },
     "execution_count": 30,
     "metadata": {},
     "output_type": "execute_result"
    }
   ],
   "source": [
    "import ast\n",
    "ast.literal_eval(str(None))\n",
    "query={\"query\":{\"query_string\":{\"query\":\"legislative\"}}}\n",
    "es.search(index=\"victoria\",doc_type=\"hearing\",size=0,body=query)['hits']['total']\n"
   ]
  },
  {
   "cell_type": "code",
   "execution_count": 44,
   "metadata": {
    "collapsed": false
   },
   "outputs": [
    {
     "data": {
      "text/plain": [
       "{'_shards': {'failed': 0, 'successful': 5, 'total': 5},\n",
       " 'hits': {'hits': [{'_id': '6469000',\n",
       "    '_index': 'victoria',\n",
       "    '_score': 1.0,\n",
       "    '_source': {'DATA': 'You are moving in and you are getting to meet people and you are learning things.',\n",
       "     'TAG': 'CHRG-107shrg89958'},\n",
       "    '_type': 'hearing'},\n",
       "   {'_id': '6469012',\n",
       "    '_index': 'victoria',\n",
       "    '_score': 1.0,\n",
       "    '_source': {'DATA': 'Chairman Sarbanes.', 'TAG': 'CHRG-107shrg89958'},\n",
       "    '_type': 'hearing'},\n",
       "   {'_id': '6469017',\n",
       "    '_index': 'victoria',\n",
       "    '_score': 1.0,\n",
       "    '_source': {'DATA': 'When they close the dorms at 10 p.m., they get our their record players.',\n",
       "     'TAG': 'CHRG-107shrg89958'},\n",
       "    '_type': 'hearing'},\n",
       "   {'_id': '6469036',\n",
       "    '_index': 'victoria',\n",
       "    '_score': 1.0,\n",
       "    '_source': {'DATA': 'Unrelated to the amount of debt.',\n",
       "     'TAG': 'CHRG-107shrg89958'},\n",
       "    '_type': 'hearing'},\n",
       "   {'_id': '6469047',\n",
       "    '_index': 'victoria',\n",
       "    '_score': 1.0,\n",
       "    '_source': {'DATA': 'We took testimony in our Commission about some of these practices and found that really it was some of the students themselves that were the greatest violators of what we would think would be ethical practices.',\n",
       "     'TAG': 'CHRG-107shrg89958'},\n",
       "    '_type': 'hearing'},\n",
       "   {'_id': '6469055',\n",
       "    '_index': 'victoria',\n",
       "    '_score': 1.0,\n",
       "    '_source': {'DATA': 'We appreciate your testimony and the effort that went into it very much.',\n",
       "     'TAG': 'CHRG-107shrg89958'},\n",
       "    '_type': 'hearing'},\n",
       "   {'_id': '6469056',\n",
       "    '_index': 'victoria',\n",
       "    '_score': 1.0,\n",
       "    '_source': {'DATA': 'I think we have had an opportunity here to air a number of these important issues.',\n",
       "     'TAG': 'CHRG-107shrg89958'},\n",
       "    '_type': 'hearing'},\n",
       "   {'_id': '6469057',\n",
       "    '_index': 'victoria',\n",
       "    '_score': 1.0,\n",
       "    '_source': {'DATA': 'The hearing is adjourned.',\n",
       "     'TAG': 'CHRG-107shrg89958'},\n",
       "    '_type': 'hearing'},\n",
       "   {'_id': '6469062',\n",
       "    '_index': 'victoria',\n",
       "    '_score': 1.0,\n",
       "    '_source': {'DATA': 'For the first time, many graduating high school seniors and incoming college freshman are presented with new opportunities and confronted with difficult decisions that will affect them for the rest of their lives--particularly access to large amounts of credit, primarily through the use of credit cards.',\n",
       "     'TAG': 'CHRG-107shrg89958'},\n",
       "    '_type': 'hearing'},\n",
       "   {'_id': '6469064',\n",
       "    '_index': 'victoria',\n",
       "    '_score': 1.0,\n",
       "    '_source': {'DATA': 'Making credit available to help finance the pursuit of higher education is something we all recognize as vital.',\n",
       "     'TAG': 'CHRG-107shrg89958'},\n",
       "    '_type': 'hearing'}],\n",
       "  'max_score': 1.0,\n",
       "  'total': 28004820},\n",
       " 'timed_out': False,\n",
       " 'took': 544}"
      ]
     },
     "execution_count": 44,
     "metadata": {},
     "output_type": "execute_result"
    }
   ],
   "source": [
    "es.search(index=\"victoria\",doc_type=\"hearing\",from_=0,size=10, body=None)\n"
   ]
  },
  {
   "cell_type": "code",
   "execution_count": 32,
   "metadata": {
    "collapsed": false
   },
   "outputs": [
    {
     "data": {
      "text/plain": [
       "['__author__',\n",
       " '__builtins__',\n",
       " '__cached__',\n",
       " '__doc__',\n",
       " '__file__',\n",
       " '__loader__',\n",
       " '__name__',\n",
       " '__package__',\n",
       " '__spec__',\n",
       " 'ast',\n",
       " 'es_get',\n",
       " 'es_search',\n",
       " 'find_offset',\n",
       " 'math']"
      ]
     },
     "execution_count": 32,
     "metadata": {},
     "output_type": "execute_result"
    }
   ],
   "source": [
    "dir(elastic_search)"
   ]
  },
  {
   "cell_type": "code",
   "execution_count": 37,
   "metadata": {
    "collapsed": false
   },
   "outputs": [
    {
     "data": {
      "text/plain": [
       "{'docs': [{'_id': '1',\n",
       "   '_index': 'victoria',\n",
       "   '_source': {'DATA': '---------- U.S. GOVERNMENT PRINTING OFFICE 44-005 PDF WASHINGTON : 1997 [TEXT NOT AVAILABLE REFER TO PDF',\n",
       "    'TAG': 'CHRG-104hhrg25201'},\n",
       "   '_type': 'hearing',\n",
       "   '_version': 24,\n",
       "   'found': True},\n",
       "  {'_id': '2',\n",
       "   '_index': 'victoria',\n",
       "   '_source': {'DATA': 'For more information, contact the GPO Customer Contact Center, U.S. Government Printing Office.',\n",
       "    'TAG': 'CHRG-104hhrg24924'},\n",
       "   '_type': 'hearing',\n",
       "   '_version': 8,\n",
       "   'found': True},\n",
       "  {'_id': '-1', '_index': 'victoria', '_type': 'hearing', 'found': False}]}"
      ]
     },
     "execution_count": 37,
     "metadata": {},
     "output_type": "execute_result"
    }
   ],
   "source": [
    "elastic_search.es_get(es,\"victoria\",\"hearing\",ids=['1','2','-1'])"
   ]
  },
  {
   "cell_type": "code",
   "execution_count": 40,
   "metadata": {
    "collapsed": false
   },
   "outputs": [
    {
     "data": {
      "text/plain": [
       "dict_keys(['victoria', 'test-index', 'mark_test'])"
      ]
     },
     "execution_count": 40,
     "metadata": {},
     "output_type": "execute_result"
    }
   ],
   "source": [
    "es.indices.get_aliases().keys()"
   ]
  },
  {
   "cell_type": "code",
   "execution_count": 41,
   "metadata": {
    "collapsed": false
   },
   "outputs": [
    {
     "data": {
      "text/plain": [
       "['1', '3', '4', '5', '66']"
      ]
     },
     "execution_count": 41,
     "metadata": {},
     "output_type": "execute_result"
    }
   ],
   "source": [
    "'1,3,4,5,66'.split(',')"
   ]
  },
  {
   "cell_type": "code",
   "execution_count": null,
   "metadata": {
    "collapsed": true
   },
   "outputs": [],
   "source": []
  }
 ],
 "metadata": {
  "kernelspec": {
   "display_name": "Python 3",
   "language": "python",
   "name": "python3"
  },
  "language_info": {
   "codemirror_mode": {
    "name": "ipython",
    "version": 3
   },
   "file_extension": ".py",
   "mimetype": "text/x-python",
   "name": "python",
   "nbconvert_exporter": "python",
   "pygments_lexer": "ipython3",
   "version": "3.5.1"
  }
 },
 "nbformat": 4,
 "nbformat_minor": 0
}
